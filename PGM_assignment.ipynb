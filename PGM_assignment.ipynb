{
  "nbformat": 4,
  "nbformat_minor": 0,
  "metadata": {
    "colab": {
      "provenance": [],
      "gpuType": "T4"
    },
    "kernelspec": {
      "name": "python3",
      "display_name": "Python 3"
    },
    "language_info": {
      "name": "python"
    },
    "accelerator": "GPU"
  },
  "cells": [
    {
      "cell_type": "code",
      "execution_count": 1,
      "metadata": {
        "id": "QvZ0MdoYAjVJ",
        "colab": {
          "base_uri": "https://localhost:8080/"
        },
        "outputId": "6e66dd72-c89e-4a2a-9e24-5987e8ab4966"
      },
      "outputs": [
        {
          "output_type": "stream",
          "name": "stdout",
          "text": [
            "Collecting pgmpy\n",
            "  Downloading pgmpy-0.1.24-py3-none-any.whl (2.0 MB)\n",
            "\u001b[2K     \u001b[90m━━━━━━━━━━━━━━━━━━━━━━━━━━━━━━━━━━━━━━━━\u001b[0m \u001b[32m2.0/2.0 MB\u001b[0m \u001b[31m8.0 MB/s\u001b[0m eta \u001b[36m0:00:00\u001b[0m\n",
            "\u001b[?25hRequirement already satisfied: networkx in /usr/local/lib/python3.10/dist-packages (from pgmpy) (3.2.1)\n",
            "Requirement already satisfied: numpy in /usr/local/lib/python3.10/dist-packages (from pgmpy) (1.23.5)\n",
            "Requirement already satisfied: scipy in /usr/local/lib/python3.10/dist-packages (from pgmpy) (1.11.4)\n",
            "Requirement already satisfied: scikit-learn in /usr/local/lib/python3.10/dist-packages (from pgmpy) (1.2.2)\n",
            "Requirement already satisfied: pandas in /usr/local/lib/python3.10/dist-packages (from pgmpy) (1.5.3)\n",
            "Requirement already satisfied: pyparsing in /usr/local/lib/python3.10/dist-packages (from pgmpy) (3.1.1)\n",
            "Requirement already satisfied: torch in /usr/local/lib/python3.10/dist-packages (from pgmpy) (2.1.0+cu121)\n",
            "Requirement already satisfied: statsmodels in /usr/local/lib/python3.10/dist-packages (from pgmpy) (0.14.1)\n",
            "Requirement already satisfied: tqdm in /usr/local/lib/python3.10/dist-packages (from pgmpy) (4.66.1)\n",
            "Requirement already satisfied: joblib in /usr/local/lib/python3.10/dist-packages (from pgmpy) (1.3.2)\n",
            "Requirement already satisfied: opt-einsum in /usr/local/lib/python3.10/dist-packages (from pgmpy) (3.3.0)\n",
            "Requirement already satisfied: python-dateutil>=2.8.1 in /usr/local/lib/python3.10/dist-packages (from pandas->pgmpy) (2.8.2)\n",
            "Requirement already satisfied: pytz>=2020.1 in /usr/local/lib/python3.10/dist-packages (from pandas->pgmpy) (2023.3.post1)\n",
            "Requirement already satisfied: threadpoolctl>=2.0.0 in /usr/local/lib/python3.10/dist-packages (from scikit-learn->pgmpy) (3.2.0)\n",
            "Requirement already satisfied: patsy>=0.5.4 in /usr/local/lib/python3.10/dist-packages (from statsmodels->pgmpy) (0.5.4)\n",
            "Requirement already satisfied: packaging>=21.3 in /usr/local/lib/python3.10/dist-packages (from statsmodels->pgmpy) (23.2)\n",
            "Requirement already satisfied: filelock in /usr/local/lib/python3.10/dist-packages (from torch->pgmpy) (3.13.1)\n",
            "Requirement already satisfied: typing-extensions in /usr/local/lib/python3.10/dist-packages (from torch->pgmpy) (4.5.0)\n",
            "Requirement already satisfied: sympy in /usr/local/lib/python3.10/dist-packages (from torch->pgmpy) (1.12)\n",
            "Requirement already satisfied: jinja2 in /usr/local/lib/python3.10/dist-packages (from torch->pgmpy) (3.1.2)\n",
            "Requirement already satisfied: fsspec in /usr/local/lib/python3.10/dist-packages (from torch->pgmpy) (2023.6.0)\n",
            "Requirement already satisfied: triton==2.1.0 in /usr/local/lib/python3.10/dist-packages (from torch->pgmpy) (2.1.0)\n",
            "Requirement already satisfied: six in /usr/local/lib/python3.10/dist-packages (from patsy>=0.5.4->statsmodels->pgmpy) (1.16.0)\n",
            "Requirement already satisfied: MarkupSafe>=2.0 in /usr/local/lib/python3.10/dist-packages (from jinja2->torch->pgmpy) (2.1.3)\n",
            "Requirement already satisfied: mpmath>=0.19 in /usr/local/lib/python3.10/dist-packages (from sympy->torch->pgmpy) (1.3.0)\n",
            "Installing collected packages: pgmpy\n",
            "Successfully installed pgmpy-0.1.24\n"
          ]
        }
      ],
      "source": [
        "!pip install pgmpy"
      ]
    },
    {
      "cell_type": "code",
      "source": [
        "from pgmpy.models import BayesianNetwork\n",
        "from pgmpy.factors.discrete.CPD import TabularCPD\n",
        "from pgmpy.inference import VariableElimination\n",
        "from pgmpy.factors import factor_product\n",
        "import networkx as nx\n",
        "import matplotlib.pyplot as plt"
      ],
      "metadata": {
        "id": "xtmHFq2BliLz"
      },
      "execution_count": 13,
      "outputs": []
    },
    {
      "cell_type": "markdown",
      "source": [
        "Q2"
      ],
      "metadata": {
        "id": "M2Z8xWC8fA9T"
      }
    },
    {
      "cell_type": "code",
      "source": [
        "model = BayesianNetwork()\n",
        "model.add_nodes_from(['A','B','T','S','L','E','D','X'])"
      ],
      "metadata": {
        "id": "rLjT-c3iQwFn"
      },
      "execution_count": 14,
      "outputs": []
    },
    {
      "cell_type": "code",
      "source": [
        "model.nodes()"
      ],
      "metadata": {
        "colab": {
          "base_uri": "https://localhost:8080/"
        },
        "id": "pZMk7CI5Q_YE",
        "outputId": "d49edced-17d4-4cba-dcf2-e2947b65b82c"
      },
      "execution_count": 15,
      "outputs": [
        {
          "output_type": "execute_result",
          "data": {
            "text/plain": [
              "NodeView(('A', 'B', 'T', 'S', 'L', 'E', 'D', 'X'))"
            ]
          },
          "metadata": {},
          "execution_count": 15
        }
      ]
    },
    {
      "cell_type": "code",
      "source": [
        "model.add_edges_from([('A','T'),('S','L'),('S','B'),('T','E'),('L','E'),('E','D'),('B','D'),('E','X')])"
      ],
      "metadata": {
        "id": "eNgG8PN4RCHq"
      },
      "execution_count": 16,
      "outputs": []
    },
    {
      "cell_type": "code",
      "source": [
        "model.edges()"
      ],
      "metadata": {
        "colab": {
          "base_uri": "https://localhost:8080/"
        },
        "id": "OStVI9M8R6Fy",
        "outputId": "0c0599d6-c2f3-40a9-97a6-3ffa98b14f0c"
      },
      "execution_count": 17,
      "outputs": [
        {
          "output_type": "execute_result",
          "data": {
            "text/plain": [
              "OutEdgeView([('A', 'T'), ('B', 'D'), ('T', 'E'), ('S', 'L'), ('S', 'B'), ('L', 'E'), ('E', 'D'), ('E', 'X')])"
            ]
          },
          "metadata": {},
          "execution_count": 17
        }
      ]
    },
    {
      "cell_type": "code",
      "source": [
        "graph = nx.DiGraph()\n",
        "graph.add_edges_from(model.edges())\n",
        "pos = nx.spring_layout(graph)\n",
        "nx.draw(graph, pos, with_labels=True, node_size=1200, node_color=\"skyblue\", font_weight=\"bold\", font_size=12, arrows=True)\n",
        "plt.title(\"Bayesian Network\")\n",
        "plt.show()"
      ],
      "metadata": {
        "colab": {
          "base_uri": "https://localhost:8080/",
          "height": 514
        },
        "id": "3xyf3aGWR6is",
        "outputId": "af303e04-0be5-4c00-b645-a19a266f8afe"
      },
      "execution_count": 18,
      "outputs": [
        {
          "output_type": "display_data",
          "data": {
            "text/plain": [
              "<Figure size 640x480 with 1 Axes>"
            ],
            "image/png": "[encoded data removed]"
          },
          "metadata": {}
        }
      ]
    },
    {
      "cell_type": "code",
      "source": [
        "# Q2 IV\n",
        "model.get_independencies()"
      ],
      "metadata": {
        "colab": {
          "base_uri": "https://localhost:8080/"
        },
        "id": "rZ0D6DP4R6lm",
        "outputId": "7c85dc76-f3c1-4e1a-b5e9-83102c28609c"
      },
      "execution_count": 19,
      "outputs": [
        {
          "output_type": "execute_result",
          "data": {
            "text/plain": [
              "(D ⟂ X | E)\n",
              "(D ⟂ A | T)\n",
              "(D ⟂ X, T, A, L | S, E)\n",
              "(D ⟂ A | S, T)\n",
              "(D ⟂ X, A | E, T)\n",
              "(D ⟂ T, S, X, A, L | B, E)\n",
              "(D ⟂ X | E, A)\n",
              "(D ⟂ X, T, A | E, L)\n",
              "(D ⟂ A | B, T)\n",
              "(D ⟂ A | X, T)\n",
              "(D ⟂ A | T, L)\n",
              "(D ⟂ S | B, L)\n",
              "(D ⟂ X, A, L | S, E, T)\n",
              "(D ⟂ X, T, A, L | S, E, B)\n",
              "(D ⟂ T, A, L | S, X, E)\n",
              "(D ⟂ X, T, L | S, E, A)\n",
              "(D ⟂ X, T, A | S, E, L)\n",
              "(D ⟂ A | S, T, B)\n",
              "(D ⟂ A | S, X, T)\n",
              "(D ⟂ A | S, T, L)\n",
              "(D ⟂ S, X, A, L | B, E, T)\n",
              "(D ⟂ A | X, E, T)\n",
              "(D ⟂ X | E, T, A)\n",
              "(D ⟂ X, A | E, T, L)\n",
              "(D ⟂ S, T, A, L | B, X, E)\n",
              "(D ⟂ S, X, T, L | B, E, A)\n",
              "(D ⟂ S, X, T, A | B, E, L)\n",
              "(D ⟂ T, A | X, E, L)\n",
              "(D ⟂ X, T | E, A, L)\n",
              "(D ⟂ A | B, X, T)\n",
              "(D ⟂ S, A | B, T, L)\n",
              "(D ⟂ A | X, T, L)\n",
              "(D ⟂ S | B, X, L)\n",
              "(D ⟂ S | B, A, L)\n",
              "(D ⟂ X, A, L | S, E, T, B)\n",
              "(D ⟂ A, L | S, X, E, T)\n",
              "(D ⟂ X, L | S, E, T, A)\n",
              "(D ⟂ X, A | S, E, T, L)\n",
              "(D ⟂ T, A, L | S, X, E, B)\n",
              "(D ⟂ X, T, L | S, E, A, B)\n",
              "(D ⟂ X, T, A | S, L, E, B)\n",
              "(D ⟂ T, L | S, X, E, A)\n",
              "(D ⟂ T, A | S, X, E, L)\n",
              "(D ⟂ X, T | S, E, A, L)\n",
              "(D ⟂ A | S, X, T, B)\n",
              "(D ⟂ A | S, L, T, B)\n",
              "(D ⟂ A | S, X, T, L)\n",
              "(D ⟂ S, A, L | B, X, E, T)\n",
              "(D ⟂ S, X, L | B, E, T, A)\n",
              "(D ⟂ S, X, A | B, E, T, L)\n",
              "(D ⟂ A | X, E, T, L)\n",
              "(D ⟂ X | E, T, A, L)\n",
              "(D ⟂ S, T, L | B, X, E, A)\n",
              "(D ⟂ S, T, A | B, X, E, L)\n",
              "(D ⟂ S, X, T | B, E, A, L)\n",
              "(D ⟂ T | X, E, A, L)\n",
              "(D ⟂ S, A | B, X, T, L)\n",
              "(D ⟂ S | B, T, A, L)\n",
              "(D ⟂ S | B, X, A, L)\n",
              "(D ⟂ A, L | B, X, E, T, S)\n",
              "(D ⟂ X, L | B, E, T, S, A)\n",
              "(D ⟂ X, A | B, E, T, S, L)\n",
              "(D ⟂ L | X, E, T, S, A)\n",
              "(D ⟂ A | X, E, T, S, L)\n",
              "(D ⟂ X | E, T, S, A, L)\n",
              "(D ⟂ T, L | B, X, E, S, A)\n",
              "(D ⟂ T, A | B, X, E, S, L)\n",
              "(D ⟂ X, T | B, E, S, A, L)\n",
              "(D ⟂ T | X, E, S, A, L)\n",
              "(D ⟂ A | B, X, T, S, L)\n",
              "(D ⟂ S, L | B, X, E, T, A)\n",
              "(D ⟂ S, A | B, X, E, T, L)\n",
              "(D ⟂ S, X | B, E, T, A, L)\n",
              "(D ⟂ S, T | B, X, E, A, L)\n",
              "(D ⟂ S | B, X, T, A, L)\n",
              "(D ⟂ L | B, X, E, T, S, A)\n",
              "(D ⟂ A | B, X, E, T, S, L)\n",
              "(D ⟂ X | B, E, T, S, A, L)\n",
              "(D ⟂ T | B, X, E, S, A, L)\n",
              "(D ⟂ S | B, X, E, T, A, L)\n",
              "(B ⟂ T, A)\n",
              "(B ⟂ X | E)\n",
              "(B ⟂ A | T)\n",
              "(B ⟂ E, T, X, A, L | S)\n",
              "(B ⟂ T | A)\n",
              "(B ⟂ X, E, T, A | L)\n",
              "(B ⟂ X | D, E)\n",
              "(B ⟂ A | D, T)\n",
              "(B ⟂ X, A | E, T)\n",
              "(B ⟂ X, T, A, L | S, E)\n",
              "(B ⟂ X | E, A)\n",
              "(B ⟂ X, T, A | E, L)\n",
              "(B ⟂ X, E, A, L | S, T)\n",
              "(B ⟂ A | X, T)\n",
              "(B ⟂ X, E, A | T, L)\n",
              "(B ⟂ E, T, A, L | S, X)\n",
              "(B ⟂ X, E, T, L | S, A)\n",
              "(B ⟂ X, E, T, A | S, L)\n",
              "(B ⟂ E, T, A | X, L)\n",
              "(B ⟂ X, E, T | A, L)\n",
              "(B ⟂ X, A | D, E, T)\n",
              "(B ⟂ X, T, A, L | D, S, E)\n",
              "(B ⟂ X | D, E, A)\n",
              "(B ⟂ X, T, A | D, E, L)\n",
              "(B ⟂ A | D, S, T)\n",
              "(B ⟂ A | D, X, T)\n",
              "(B ⟂ A | D, T, L)\n",
              "(B ⟂ X, A, L | S, E, T)\n",
              "(B ⟂ A | X, E, T)\n",
              "(B ⟂ X | E, T, A)\n",
              "(B ⟂ X, A | E, T, L)\n",
              "(B ⟂ T, A, L | S, X, E)\n",
              "(B ⟂ X, T, L | S, E, A)\n",
              "(B ⟂ X, T, A | S, E, L)\n",
              "(B ⟂ T, A | X, E, L)\n",
              "(B ⟂ X, T | E, A, L)\n",
              "(B ⟂ E, A, L | S, X, T)\n",
              "(B ⟂ X, E, L | S, T, A)\n",
              "(B ⟂ X, E, A | S, T, L)\n",
              "(B ⟂ E, A | X, T, L)\n",
              "(B ⟂ X, E | T, A, L)\n",
              "(B ⟂ E, T, L | S, X, A)\n",
              "(B ⟂ E, T, A | S, X, L)\n",
              "(B ⟂ X, E, T | S, A, L)\n",
              "(B ⟂ E, T | X, A, L)\n",
              "(B ⟂ X, A, L | D, S, E, T)\n",
              "(B ⟂ A | D, X, E, T)\n",
              "(B ⟂ X | D, E, T, A)\n",
              "(B ⟂ X, A | D, E, T, L)\n",
              "(B ⟂ T, A, L | D, S, X, E)\n",
              "(B ⟂ X, T, L | D, S, E, A)\n",
              "(B ⟂ X, T, A | D, S, E, L)\n",
              "(B ⟂ T, A | D, X, E, L)\n",
              "(B ⟂ X, T | D, E, A, L)\n",
              "(B ⟂ A | D, S, X, T)\n",
              "(B ⟂ A | D, S, T, L)\n",
              "(B ⟂ A | D, X, T, L)\n",
              "(B ⟂ A, L | S, X, E, T)\n",
              "(B ⟂ X, L | S, E, T, A)\n",
              "(B ⟂ X, A | S, E, T, L)\n",
              "(B ⟂ A | X, E, T, L)\n",
              "(B ⟂ X | E, T, A, L)\n",
              "(B ⟂ T, L | S, X, E, A)\n",
              "(B ⟂ T, A | S, X, E, L)\n",
              "(B ⟂ X, T | S, E, A, L)\n",
              "(B ⟂ T | X, E, A, L)\n",
              "(B ⟂ E, L | S, X, T, A)\n",
              "(B ⟂ E, A | S, X, T, L)\n",
              "(B ⟂ X, E | S, T, A, L)\n",
              "(B ⟂ E | X, T, A, L)\n",
              "(B ⟂ E, T | S, X, A, L)\n",
              "(B ⟂ A, L | D, X, E, T, S)\n",
              "(B ⟂ X, L | D, E, T, S, A)\n",
              "(B ⟂ X, A | D, E, T, S, L)\n",
              "(B ⟂ A | D, X, E, T, L)\n",
              "(B ⟂ X | D, E, T, A, L)\n",
              "(B ⟂ T, L | D, X, E, S, A)\n",
              "(B ⟂ T, A | D, X, E, S, L)\n",
              "(B ⟂ X, T | D, E, S, A, L)\n",
              "(B ⟂ T | D, X, E, A, L)\n",
              "(B ⟂ A | D, X, T, S, L)\n",
              "(B ⟂ L | X, E, T, S, A)\n",
              "(B ⟂ A | X, E, T, S, L)\n",
              "(B ⟂ X | E, T, S, A, L)\n",
              "(B ⟂ T | X, E, S, A, L)\n",
              "(B ⟂ E | X, T, S, A, L)\n",
              "(B ⟂ L | D, X, E, T, S, A)\n",
              "(B ⟂ A | D, X, E, T, S, L)\n",
              "(B ⟂ X | D, E, T, S, A, L)\n",
              "(B ⟂ T | D, X, E, S, A, L)\n",
              "(X ⟂ B | S)\n",
              "(X ⟂ D, S, T, B, A, L | E)\n",
              "(X ⟂ A | T)\n",
              "(X ⟂ B, S | L)\n",
              "(X ⟂ S, T, B, A, L | D, E)\n",
              "(X ⟂ A | D, T)\n",
              "(X ⟂ D, T, B, A, L | S, E)\n",
              "(X ⟂ B, A | S, T)\n",
              "(X ⟂ B | S, A)\n",
              "(X ⟂ B | S, L)\n",
              "(X ⟂ D, S, B, A, L | E, T)\n",
              "(X ⟂ D, T, S, A, L | B, E)\n",
              "(X ⟂ D, S, T, B, L | E, A)\n",
              "(X ⟂ D, S, T, B, A | E, L)\n",
              "(X ⟂ A | B, T)\n",
              "(X ⟂ B, S, A | T, L)\n",
              "(X ⟂ S | B, L)\n",
              "(X ⟂ B, S | A, L)\n",
              "(X ⟂ B, T, A, L | D, S, E)\n",
              "(X ⟂ A | D, S, T)\n",
              "(X ⟂ S, B, A, L | D, E, T)\n",
              "(X ⟂ S, T, A, L | D, E, B)\n",
              "(X ⟂ S, B, T, L | D, E, A)\n",
              "(X ⟂ S, T, A, B | D, E, L)\n",
              "(X ⟂ A | D, T, B)\n",
              "(X ⟂ A | D, T, L)\n",
              "(X ⟂ S | D, L, B)\n",
              "(X ⟂ D, B, A, L | S, E, T)\n",
              "(X ⟂ D, T, A, L | S, E, B)\n",
              "(X ⟂ D, B, T, L | S, E, A)\n",
              "(X ⟂ D, T, A, B | S, E, L)\n",
              "(X ⟂ A | S, T, B)\n",
              "(X ⟂ B | S, T, A)\n",
              "(X ⟂ B, A | S, T, L)\n",
              "(X ⟂ B | S, A, L)\n",
              "(X ⟂ D, S, A, L | B, E, T)\n",
              "(X ⟂ D, S, B, L | E, T, A)\n",
              "(X ⟂ D, S, A, B | E, T, L)\n",
              "(X ⟂ D, S, T, L | B, E, A)\n",
              "(X ⟂ D, S, T, A | B, E, L)\n",
              "(X ⟂ D, S, T, B | E, A, L)\n",
              "(X ⟂ S, A | B, T, L)\n",
              "(X ⟂ S, B | T, A, L)\n",
              "(X ⟂ S | B, A, L)\n",
              "(X ⟂ B, A, L | D, S, E, T)\n",
              "(X ⟂ T, A, L | D, S, E, B)\n",
              "(X ⟂ B, T, L | D, S, E, A)\n",
              "(X ⟂ B, T, A | D, S, E, L)\n",
              "(X ⟂ A | D, S, T, B)\n",
              "(X ⟂ A | D, S, T, L)\n",
              "(X ⟂ S, A, L | D, E, T, B)\n",
              "(X ⟂ S, B, L | D, E, T, A)\n",
              "(X ⟂ S, A, B | D, E, T, L)\n",
              "(X ⟂ S, T, L | D, E, A, B)\n",
              "(X ⟂ S, T, A | D, L, E, B)\n",
              "(X ⟂ S, T, B | D, E, A, L)\n",
              "(X ⟂ S, A | D, L, T, B)\n",
              "(X ⟂ S | D, L, A, B)\n",
              "(X ⟂ D, A, L | S, E, T, B)\n",
              "(X ⟂ D, B, L | S, E, T, A)\n",
              "(X ⟂ D, A, B | S, E, T, L)\n",
              "(X ⟂ D, T, L | S, E, A, B)\n",
              "(X ⟂ D, T, A | S, L, E, B)\n",
              "(X ⟂ D, T, B | S, E, A, L)\n",
              "(X ⟂ A | S, L, T, B)\n",
              "(X ⟂ B | S, T, A, L)\n",
              "(X ⟂ D, S, L | B, E, T, A)\n",
              "(X ⟂ D, S, A | B, E, T, L)\n",
              "(X ⟂ D, S, B | E, T, A, L)\n",
              "(X ⟂ D, S, T | B, E, A, L)\n",
              "(X ⟂ S | B, T, A, L)\n",
              "(X ⟂ A, L | D, B, E, T, S)\n",
              "(X ⟂ B, L | D, E, T, S, A)\n",
              "(X ⟂ B, A | D, E, T, S, L)\n",
              "(X ⟂ T, L | D, B, E, S, A)\n",
              "(X ⟂ T, A | D, B, E, S, L)\n",
              "(X ⟂ B, T | D, E, S, A, L)\n",
              "(X ⟂ A | D, B, T, S, L)\n",
              "(X ⟂ S, L | D, B, E, T, A)\n",
              "(X ⟂ S, A | D, B, E, T, L)\n",
              "(X ⟂ S, B | D, E, T, A, L)\n",
              "(X ⟂ S, T | D, B, E, A, L)\n",
              "(X ⟂ S | D, B, T, A, L)\n",
              "(X ⟂ D, L | B, E, T, S, A)\n",
              "(X ⟂ D, A | B, E, T, S, L)\n",
              "(X ⟂ D, B | E, T, S, A, L)\n",
              "(X ⟂ D, T | B, E, S, A, L)\n",
              "(X ⟂ D, S | B, E, T, A, L)\n",
              "(X ⟂ L | D, B, E, T, S, A)\n",
              "(X ⟂ A | D, B, E, T, S, L)\n",
              "(X ⟂ B | D, E, T, S, A, L)\n",
              "(X ⟂ T | D, B, E, S, A, L)\n",
              "(X ⟂ S | D, B, E, T, A, L)\n",
              "(X ⟂ D | B, E, T, S, A, L)\n",
              "(E ⟂ B | S)\n",
              "(E ⟂ A | T)\n",
              "(E ⟂ B, S | L)\n",
              "(E ⟂ A | D, T)\n",
              "(E ⟂ B, A | S, T)\n",
              "(E ⟂ B | S, X)\n",
              "(E ⟂ B | S, A)\n",
              "(E ⟂ B | S, L)\n",
              "(E ⟂ A | B, T)\n",
              "(E ⟂ A | X, T)\n",
              "(E ⟂ B, S, A | T, L)\n",
              "(E ⟂ S | B, L)\n",
              "(E ⟂ B, S | X, L)\n",
              "(E ⟂ B, S | A, L)\n",
              "(E ⟂ A | D, S, T)\n",
              "(E ⟂ A | D, T, B)\n",
              "(E ⟂ A | D, X, T)\n",
              "(E ⟂ A | D, T, L)\n",
              "(E ⟂ S | D, L, B)\n",
              "(E ⟂ A | S, T, B)\n",
              "(E ⟂ B, A | S, X, T)\n",
              "(E ⟂ B | S, T, A)\n",
              "(E ⟂ B, A | S, T, L)\n",
              "(E ⟂ B | S, X, A)\n",
              "(E ⟂ B | S, X, L)\n",
              "(E ⟂ B | S, A, L)\n",
              "(E ⟂ A | B, X, T)\n",
              "(E ⟂ S, A | B, T, L)\n",
              "(E ⟂ S, A, B | X, T, L)\n",
              "(E ⟂ S, B | T, A, L)\n",
              "(E ⟂ S | B, X, L)\n",
              "(E ⟂ S | B, A, L)\n",
              "(E ⟂ S, B | X, A, L)\n",
              "(E ⟂ A | D, S, T, B)\n",
              "(E ⟂ A | D, S, X, T)\n",
              "(E ⟂ A | D, S, T, L)\n",
              "(E ⟂ A | D, X, T, B)\n",
              "(E ⟂ S, A | D, L, T, B)\n",
              "(E ⟂ A | D, X, T, L)\n",
              "(E ⟂ S | D, L, X, B)\n",
              "(E ⟂ S | D, L, A, B)\n",
              "(E ⟂ A | S, X, T, B)\n",
              "(E ⟂ A | S, L, T, B)\n",
              "(E ⟂ B | S, X, T, A)\n",
              "(E ⟂ B, A | S, X, T, L)\n",
              "(E ⟂ B | S, T, A, L)\n",
              "(E ⟂ B | S, X, A, L)\n",
              "(E ⟂ S, A | B, X, T, L)\n",
              "(E ⟂ S | B, T, A, L)\n",
              "(E ⟂ S, B | X, T, A, L)\n",
              "(E ⟂ S | B, X, A, L)\n",
              "(E ⟂ A | D, B, X, T, S)\n",
              "(E ⟂ A | D, B, T, S, L)\n",
              "(E ⟂ A | D, X, T, S, L)\n",
              "(E ⟂ S, A | D, B, X, T, L)\n",
              "(E ⟂ S | D, B, T, A, L)\n",
              "(E ⟂ S | D, B, X, A, L)\n",
              "(E ⟂ A | B, X, T, S, L)\n",
              "(E ⟂ B | X, T, S, A, L)\n",
              "(E ⟂ S | B, X, T, A, L)\n",
              "(E ⟂ A | D, B, X, T, S, L)\n",
              "(E ⟂ S | D, B, X, T, A, L)\n",
              "(T ⟂ S, L, B)\n",
              "(T ⟂ B, L | S)\n",
              "(T ⟂ X | E)\n",
              "(T ⟂ S, L | B)\n",
              "(T ⟂ B, S, L | A)\n",
              "(T ⟂ B, S | L)\n",
              "(T ⟂ X | D, E)\n",
              "(T ⟂ D, X, B | S, E)\n",
              "(T ⟂ L | S, B)\n",
              "(T ⟂ B | S, X)\n",
              "(T ⟂ B, L | S, A)\n",
              "(T ⟂ B | S, L)\n",
              "(T ⟂ D, X | B, E)\n",
              "(T ⟂ X | E, A)\n",
              "(T ⟂ D, S, X, B | E, L)\n",
              "(T ⟂ S, L | B, A)\n",
              "(T ⟂ S | B, L)\n",
              "(T ⟂ B, S | X, L)\n",
              "(T ⟂ B, S | A, L)\n",
              "(T ⟂ B, X | D, S, E)\n",
              "(T ⟂ X | D, E, B)\n",
              "(T ⟂ X | D, E, A)\n",
              "(T ⟂ S, X, B | D, E, L)\n",
              "(T ⟂ S | D, L, B)\n",
              "(T ⟂ D, X | S, E, B)\n",
              "(T ⟂ D, B | S, X, E)\n",
              "(T ⟂ D, X, B | S, E, A)\n",
              "(T ⟂ D, X, B | S, E, L)\n",
              "(T ⟂ L | S, A, B)\n",
              "(T ⟂ B | S, X, A)\n",
              "(T ⟂ B | S, X, L)\n",
              "(T ⟂ B | S, A, L)\n",
              "(T ⟂ D | B, X, E)\n",
              "(T ⟂ D, X | B, E, A)\n",
              "(T ⟂ D, S, X | B, E, L)\n",
              "(T ⟂ D, S, B | X, E, L)\n",
              "(T ⟂ D, S, X, B | E, A, L)\n",
              "(T ⟂ S | B, X, L)\n",
              "(T ⟂ S | B, A, L)\n",
              "(T ⟂ S, B | X, A, L)\n",
              "(T ⟂ X | D, S, E, B)\n",
              "(T ⟂ B | D, S, X, E)\n",
              "(T ⟂ B, X | D, S, E, A)\n",
              "(T ⟂ B, X | D, S, E, L)\n",
              "(T ⟂ X | D, E, A, B)\n",
              "(T ⟂ S, X | D, L, E, B)\n",
              "(T ⟂ S, B | D, X, E, L)\n",
              "(T ⟂ S, X, B | D, E, A, L)\n",
              "(T ⟂ S | D, L, X, B)\n",
              "(T ⟂ S | D, L, A, B)\n",
              "(T ⟂ D | S, X, E, B)\n",
              "(T ⟂ D, X | S, E, A, B)\n",
              "(T ⟂ D, X | S, L, E, B)\n",
              "(T ⟂ D, B | S, X, E, A)\n",
              "(T ⟂ D, B | S, X, E, L)\n",
              "(T ⟂ D, X, B | S, E, A, L)\n",
              "(T ⟂ B | S, X, A, L)\n",
              "(T ⟂ D | B, X, E, A)\n",
              "(T ⟂ D, S | B, X, E, L)\n",
              "(T ⟂ D, S, X | B, E, A, L)\n",
              "(T ⟂ D, S, B | X, E, A, L)\n",
              "(T ⟂ S | B, X, A, L)\n",
              "(T ⟂ X | D, B, E, S, A)\n",
              "(T ⟂ X | D, B, E, S, L)\n",
              "(T ⟂ B | D, X, E, S, A)\n",
              "(T ⟂ B | D, X, E, S, L)\n",
              "(T ⟂ B, X | D, E, S, A, L)\n",
              "(T ⟂ S | D, B, X, E, L)\n",
              "(T ⟂ S, X | D, B, E, A, L)\n",
              "(T ⟂ S, B | D, X, E, A, L)\n",
              "(T ⟂ S | D, B, X, A, L)\n",
              "(T ⟂ D | B, X, E, S, A)\n",
              "(T ⟂ D | B, X, E, S, L)\n",
              "(T ⟂ D, X | B, E, S, A, L)\n",
              "(T ⟂ D, B | X, E, S, A, L)\n",
              "(T ⟂ D, S | B, X, E, A, L)\n",
              "(T ⟂ X | D, B, E, S, A, L)\n",
              "(T ⟂ B | D, X, E, S, A, L)\n",
              "(T ⟂ S | D, B, X, E, A, L)\n",
              "(T ⟂ D | B, X, E, S, A, L)\n",
              "(S ⟂ T, A)\n",
              "(S ⟂ X | E)\n",
              "(S ⟂ A | T)\n",
              "(S ⟂ T, A | B)\n",
              "(S ⟂ T | A)\n",
              "(S ⟂ X, E, T, A | L)\n",
              "(S ⟂ X | D, E)\n",
              "(S ⟂ A | D, T)\n",
              "(S ⟂ X, A | E, T)\n",
              "(S ⟂ D, X | B, E)\n",
              "(S ⟂ X | E, A)\n",
              "(S ⟂ X, T, A | E, L)\n",
              "(S ⟂ A | B, T)\n",
              "(S ⟂ A | X, T)\n",
              "(S ⟂ X, E, A | T, L)\n",
              "(S ⟂ T | B, A)\n",
              "(S ⟂ D, E, T, X, A | B, L)\n",
              "(S ⟂ E, T, A | X, L)\n",
              "(S ⟂ X, E, T | A, L)\n",
              "(S ⟂ X, A | D, E, T)\n",
              "(S ⟂ X | D, E, B)\n",
              "(S ⟂ X | D, E, A)\n",
              "(S ⟂ X, T, A | D, E, L)\n",
              "(S ⟂ A | D, T, B)\n",
              "(S ⟂ A | D, X, T)\n",
              "(S ⟂ A | D, T, L)\n",
              "(S ⟂ X, E, T, A | D, L, B)\n",
              "(S ⟂ D, X, A | B, E, T)\n",
              "(S ⟂ A | X, E, T)\n",
              "(S ⟂ X | E, T, A)\n",
              "(S ⟂ X, A | E, T, L)\n",
              "(S ⟂ D | B, X, E)\n",
              "(S ⟂ D, X | B, E, A)\n",
              "(S ⟂ D, X, T, A | B, E, L)\n",
              "(S ⟂ T, A | X, E, L)\n",
              "(S ⟂ X, T | E, A, L)\n",
              "(S ⟂ A | B, X, T)\n",
              "(S ⟂ D, X, E, A | B, T, L)\n",
              "(S ⟂ E, A | X, T, L)\n",
              "(S ⟂ X, E | T, A, L)\n",
              "(S ⟂ D, E, T, A | B, X, L)\n",
              "(S ⟂ D, X, E, T | B, A, L)\n",
              "(S ⟂ E, T | X, A, L)\n",
              "(S ⟂ X, A | D, E, T, B)\n",
              "(S ⟂ A | D, X, E, T)\n",
              "(S ⟂ X | D, E, T, A)\n",
              "(S ⟂ X, A | D, E, T, L)\n",
              "(S ⟂ X | D, E, A, B)\n",
              "(S ⟂ X, T, A | D, L, E, B)\n",
              "(S ⟂ T, A | D, X, E, L)\n",
              "(S ⟂ X, T | D, E, A, L)\n",
              "(S ⟂ A | D, X, T, B)\n",
              "(S ⟂ X, E, A | D, L, T, B)\n",
              "(S ⟂ A | D, X, T, L)\n",
              "(S ⟂ E, T, A | D, L, X, B)\n",
              "(S ⟂ X, E, T | D, L, A, B)\n",
              "(S ⟂ D, A | B, X, E, T)\n",
              "(S ⟂ D, X | B, E, T, A)\n",
              "(S ⟂ D, X, A | B, E, T, L)\n",
              "(S ⟂ A | X, E, T, L)\n",
              "(S ⟂ X | E, T, A, L)\n",
              "(S ⟂ D | B, X, E, A)\n",
              "(S ⟂ D, T, A | B, X, E, L)\n",
              "(S ⟂ D, X, T | B, E, A, L)\n",
              "(S ⟂ T | X, E, A, L)\n",
              "(S ⟂ D, E, A | B, X, T, L)\n",
              "(S ⟂ D, X, E | B, T, A, L)\n",
              "(S ⟂ E | X, T, A, L)\n",
              "(S ⟂ D, E, T | B, X, A, L)\n",
              "(S ⟂ A | D, B, X, E, T)\n",
              "(S ⟂ X | D, B, E, T, A)\n",
              "(S ⟂ X, A | D, B, E, T, L)\n",
              "(S ⟂ A | D, X, E, T, L)\n",
              "(S ⟂ X | D, E, T, A, L)\n",
              "(S ⟂ T, A | D, B, X, E, L)\n",
              "(S ⟂ X, T | D, B, E, A, L)\n",
              "(S ⟂ T | D, X, E, A, L)\n",
              "(S ⟂ E, A | D, B, X, T, L)\n",
              "(S ⟂ X, E | D, B, T, A, L)\n",
              "(S ⟂ E, T | D, B, X, A, L)\n",
              "(S ⟂ D | B, X, E, T, A)\n",
              "(S ⟂ D, A | B, X, E, T, L)\n",
              "(S ⟂ D, X | B, E, T, A, L)\n",
              "(S ⟂ D, T | B, X, E, A, L)\n",
              "(S ⟂ D, E | B, X, T, A, L)\n",
              "(S ⟂ A | D, B, X, E, T, L)\n",
              "(S ⟂ X | D, B, E, T, A, L)\n",
              "(S ⟂ T | D, B, X, E, A, L)\n",
              "(S ⟂ E | D, B, X, T, A, L)\n",
              "(S ⟂ D | B, X, E, T, A, L)\n",
              "(A ⟂ S, L, B)\n",
              "(A ⟂ B, L | S)\n",
              "(A ⟂ X | E)\n",
              "(A ⟂ D, S, E, B, X, L | T)\n",
              "(A ⟂ S, L | B)\n",
              "(A ⟂ B, S | L)\n",
              "(A ⟂ X | D, E)\n",
              "(A ⟂ S, E, B, X, L | D, T)\n",
              "(A ⟂ D, X, B | S, E)\n",
              "(A ⟂ D, E, B, X, L | S, T)\n",
              "(A ⟂ L | S, B)\n",
              "(A ⟂ B | S, X)\n",
              "(A ⟂ B | S, L)\n",
              "(A ⟂ D, S, B, X, L | E, T)\n",
              "(A ⟂ D, X | B, E)\n",
              "(A ⟂ D, S, X, B | E, L)\n",
              "(A ⟂ D, E, S, X, L | B, T)\n",
              "(A ⟂ D, S, E, B, L | X, T)\n",
              "(A ⟂ D, S, E, B, X | T, L)\n",
              "(A ⟂ S | B, L)\n",
              "(A ⟂ B, S | X, L)\n",
              "(A ⟂ B, X | D, S, E)\n",
              "(A ⟂ B, X, E, L | D, S, T)\n",
              "(A ⟂ S, B, X, L | D, E, T)\n",
              "(A ⟂ X | D, E, B)\n",
              "(A ⟂ S, X, B | D, E, L)\n",
              "(A ⟂ S, X, E, L | D, T, B)\n",
              "(A ⟂ S, B, E, L | D, X, T)\n",
              "(A ⟂ S, X, E, B | D, T, L)\n",
              "(A ⟂ S | D, L, B)\n",
              "(A ⟂ D, B, X, L | S, E, T)\n",
              "(A ⟂ D, X | S, E, B)\n",
              "(A ⟂ D, B | S, X, E)\n",
              "(A ⟂ D, X, B | S, E, L)\n",
              "(A ⟂ D, X, E, L | S, T, B)\n",
              "(A ⟂ D, B, E, L | S, X, T)\n",
              "(A ⟂ D, X, E, B | S, T, L)\n",
              "(A ⟂ B | S, X, L)\n",
              "(A ⟂ D, S, X, L | B, E, T)\n",
              "(A ⟂ D, S, B, L | X, E, T)\n",
              "(A ⟂ D, S, X, B | E, T, L)\n",
              "(A ⟂ D | B, X, E)\n",
              "(A ⟂ D, S, X | B, E, L)\n",
              "(A ⟂ D, S, B | X, E, L)\n",
              "(A ⟂ D, S, E, L | B, X, T)\n",
              "(A ⟂ D, S, X, E | B, T, L)\n",
              "(A ⟂ D, S, E, B | X, T, L)\n",
              "(A ⟂ S | B, X, L)\n",
              "(A ⟂ B, X, L | D, S, E, T)\n",
              "(A ⟂ X | D, S, E, B)\n",
              "(A ⟂ B | D, S, X, E)\n",
              "(A ⟂ B, X | D, S, E, L)\n",
              "(A ⟂ X, E, L | D, S, T, B)\n",
              "(A ⟂ B, E, L | D, S, X, T)\n",
              "(A ⟂ B, X, E | D, S, T, L)\n",
              "(A ⟂ S, X, L | D, E, T, B)\n",
              "(A ⟂ S, B, L | D, X, E, T)\n",
              "(A ⟂ S, X, B | D, E, T, L)\n",
              "(A ⟂ S, X | D, L, E, B)\n",
              "(A ⟂ S, B | D, X, E, L)\n",
              "(A ⟂ S, E, L | D, X, T, B)\n",
              "(A ⟂ S, X, E | D, L, T, B)\n",
              "(A ⟂ S, E, B | D, X, T, L)\n",
              "(A ⟂ S | D, L, X, B)\n",
              "(A ⟂ D, X, L | S, E, T, B)\n",
              "(A ⟂ D, B, L | S, X, E, T)\n",
              "(A ⟂ D, X, B | S, E, T, L)\n",
              "(A ⟂ D | S, X, E, B)\n",
              "(A ⟂ D, X | S, L, E, B)\n",
              "(A ⟂ D, B | S, X, E, L)\n",
              "(A ⟂ D, E, L | S, X, T, B)\n",
              "(A ⟂ D, X, E | S, L, T, B)\n",
              "(A ⟂ D, E, B | S, X, T, L)\n",
              "(A ⟂ D, S, L | B, X, E, T)\n",
              "(A ⟂ D, S, X | B, E, T, L)\n",
              "(A ⟂ D, S, B | X, E, T, L)\n",
              "(A ⟂ D, S | B, X, E, L)\n",
              "(A ⟂ D, S, E | B, X, T, L)\n",
              "(A ⟂ X, L | D, B, E, T, S)\n",
              "(A ⟂ B, L | D, X, E, T, S)\n",
              "(A ⟂ B, X | D, E, T, S, L)\n",
              "(A ⟂ X | D, B, E, S, L)\n",
              "(A ⟂ B | D, X, E, S, L)\n",
              "(A ⟂ E, L | D, B, X, T, S)\n",
              "(A ⟂ X, E | D, B, T, S, L)\n",
              "(A ⟂ B, E | D, X, T, S, L)\n",
              "(A ⟂ S, L | D, B, X, E, T)\n",
              "(A ⟂ S, X | D, B, E, T, L)\n",
              "(A ⟂ S, B | D, X, E, T, L)\n",
              "(A ⟂ S | D, B, X, E, L)\n",
              "(A ⟂ S, E | D, B, X, T, L)\n",
              "(A ⟂ D, L | B, X, E, T, S)\n",
              "(A ⟂ D, X | B, E, T, S, L)\n",
              "(A ⟂ D, B | X, E, T, S, L)\n",
              "(A ⟂ D | B, X, E, S, L)\n",
              "(A ⟂ D, E | B, X, T, S, L)\n",
              "(A ⟂ D, S | B, X, E, T, L)\n",
              "(A ⟂ L | D, B, X, E, T, S)\n",
              "(A ⟂ X | D, B, E, T, S, L)\n",
              "(A ⟂ B | D, X, E, T, S, L)\n",
              "(A ⟂ E | D, B, X, T, S, L)\n",
              "(A ⟂ S | D, B, X, E, T, L)\n",
              "(A ⟂ D | B, X, E, T, S, L)\n",
              "(L ⟂ T, A)\n",
              "(L ⟂ B, T, A | S)\n",
              "(L ⟂ X | E)\n",
              "(L ⟂ A | T)\n",
              "(L ⟂ T, A | B)\n",
              "(L ⟂ T | A)\n",
              "(L ⟂ X | D, E)\n",
              "(L ⟂ A | D, T)\n",
              "(L ⟂ D, X, B | S, E)\n",
              "(L ⟂ B, A | S, T)\n",
              "(L ⟂ T, A | S, B)\n",
              "(L ⟂ B | S, X)\n",
              "(L ⟂ B, T | S, A)\n",
              "(L ⟂ X, A | E, T)\n",
              "(L ⟂ D, X | B, E)\n",
              "(L ⟂ X | E, A)\n",
              "(L ⟂ A | B, T)\n",
              "(L ⟂ A | X, T)\n",
              "(L ⟂ T | B, A)\n",
              "(L ⟂ B, X | D, S, E)\n",
              "(L ⟂ A | D, S, T)\n",
              "(L ⟂ X, A | D, E, T)\n",
              "(L ⟂ X | D, E, B)\n",
              "(L ⟂ X | D, E, A)\n",
              "(L ⟂ A | D, T, B)\n",
              "(L ⟂ A | D, X, T)\n",
              "(L ⟂ D, X, A, B | S, E, T)\n",
              "(L ⟂ D, X | S, E, B)\n",
              "(L ⟂ D, B | S, X, E)\n",
              "(L ⟂ D, X, B | S, E, A)\n",
              "(L ⟂ A | S, T, B)\n",
              "(L ⟂ B, A | S, X, T)\n",
              "(L ⟂ B | S, T, A)\n",
              "(L ⟂ T | S, A, B)\n",
              "(L ⟂ B | S, X, A)\n",
              "(L ⟂ D, X, A | B, E, T)\n",
              "(L ⟂ A | X, E, T)\n",
              "(L ⟂ X | E, T, A)\n",
              "(L ⟂ D | B, X, E)\n",
              "(L ⟂ D, X | B, E, A)\n",
              "(L ⟂ A | B, X, T)\n",
              "(L ⟂ B, X, A | D, S, E, T)\n",
              "(L ⟂ X | D, S, E, B)\n",
              "(L ⟂ B | D, S, X, E)\n",
              "(L ⟂ B, X | D, S, E, A)\n",
              "(L ⟂ A | D, S, T, B)\n",
              "(L ⟂ A | D, S, X, T)\n",
              "(L ⟂ X, A | D, E, T, B)\n",
              "(L ⟂ A | D, X, E, T)\n",
              "(L ⟂ X | D, E, T, A)\n",
              "(L ⟂ X | D, E, A, B)\n",
              "(L ⟂ A | D, X, T, B)\n",
              "(L ⟂ D, X, A | S, E, T, B)\n",
              "(L ⟂ D, A, B | S, X, E, T)\n",
              "(L ⟂ D, X, B | S, E, T, A)\n",
              "(L ⟂ D | S, X, E, B)\n",
              "(L ⟂ D, X | S, E, A, B)\n",
              "(L ⟂ D, B | S, X, E, A)\n",
              "(L ⟂ A | S, X, T, B)\n",
              "(L ⟂ B | S, X, T, A)\n",
              "(L ⟂ D, A | B, X, E, T)\n",
              "(L ⟂ D, X | B, E, T, A)\n",
              "(L ⟂ D | B, X, E, A)\n",
              "(L ⟂ X, A | D, B, E, T, S)\n",
              "(L ⟂ B, A | D, X, E, T, S)\n",
              "(L ⟂ B, X | D, E, T, S, A)\n",
              "(L ⟂ X | D, B, E, S, A)\n",
              "(L ⟂ B | D, X, E, S, A)\n",
              "(L ⟂ A | D, B, X, T, S)\n",
              "(L ⟂ A | D, B, X, E, T)\n",
              "(L ⟂ X | D, B, E, T, A)\n",
              "(L ⟂ D, A | B, X, E, T, S)\n",
              "(L ⟂ D, X | B, E, T, S, A)\n",
              "(L ⟂ D, B | X, E, T, S, A)\n",
              "(L ⟂ D | B, X, E, S, A)\n",
              "(L ⟂ D | B, X, E, T, A)\n",
              "(L ⟂ A | D, B, X, E, T, S)\n",
              "(L ⟂ X | D, B, E, T, S, A)\n",
              "(L ⟂ B | D, X, E, T, S, A)\n",
              "(L ⟂ D | B, X, E, T, S, A)"
            ]
          },
          "metadata": {},
          "execution_count": 19
        }
      ]
    },
    {
      "cell_type": "code",
      "source": [
        "cpd_A = TabularCPD('A', 2, [[0.99], [0.01]])\n",
        "cpd_S = TabularCPD('S', 2, [[0.5], [0.5]])\n",
        "cpd_T = TabularCPD('T', 2, [[0.99, 0.95], [0.01, 0.05]], evidence = ['A'], evidence_card = [2])\n",
        "cpd_L = TabularCPD('L', 2, [[0.99, 0.9], [0.01, 0.1]], evidence = ['S'], evidence_card = [2])\n",
        "cpd_B = TabularCPD('B', 2, [[0.7, 0.4], [0.3, 0.6]], evidence =['S'], evidence_card = [2])\n",
        "cpd_E = TabularCPD('E', 2,[[1, 0, 0, 0],[0, 1, 1, 1]],evidence=['T', 'L'],evidence_card=[2, 2])\n",
        "cpd_D = TabularCPD('D', 2,[[0.9, 0.3, 0.2, 0.1],[0.1, 0.7, 0.8, 0.9]],evidence=['B', 'E'],evidence_card=[2, 2])\n",
        "cpd_X = TabularCPD('X', 2, [[0.95, 0.02], [0.05, 0.98]], evidence = ['E'], evidence_card = [2])"
      ],
      "metadata": {
        "id": "QRL_lymkEfJl"
      },
      "execution_count": 20,
      "outputs": []
    },
    {
      "cell_type": "code",
      "source": [
        "model.add_cpds(cpd_A, cpd_S, cpd_T, cpd_L, cpd_B, cpd_E, cpd_D, cpd_X)\n",
        "model.get_cpds()"
      ],
      "metadata": {
        "colab": {
          "base_uri": "https://localhost:8080/"
        },
        "id": "aLLxxXhrBUj-",
        "outputId": "3258456e-362e-4c18-bd58-1e78fc4d7b00"
      },
      "execution_count": 21,
      "outputs": [
        {
          "output_type": "execute_result",
          "data": {
            "text/plain": [
              "[<TabularCPD representing P(A:2) at 0x79217484a920>,\n",
              " <TabularCPD representing P(S:2) at 0x79217548a890>,\n",
              " <TabularCPD representing P(T:2 | A:2) at 0x7921754886a0>,\n",
              " <TabularCPD representing P(L:2 | S:2) at 0x792175488280>,\n",
              " <TabularCPD representing P(B:2 | S:2) at 0x79217548a770>,\n",
              " <TabularCPD representing P(E:2 | T:2, L:2) at 0x79217484bfa0>,\n",
              " <TabularCPD representing P(D:2 | B:2, E:2) at 0x79217484a8c0>,\n",
              " <TabularCPD representing P(X:2 | E:2) at 0x79217484bfd0>]"
            ]
          },
          "metadata": {},
          "execution_count": 21
        }
      ]
    },
    {
      "cell_type": "code",
      "source": [
        "model.check_model()"
      ],
      "metadata": {
        "colab": {
          "base_uri": "https://localhost:8080/"
        },
        "id": "erSbK0OtGcZn",
        "outputId": "737531fb-d441-44e8-a8a9-d404c415cd7f"
      },
      "execution_count": 22,
      "outputs": [
        {
          "output_type": "execute_result",
          "data": {
            "text/plain": [
              "True"
            ]
          },
          "metadata": {},
          "execution_count": 22
        }
      ]
    },
    {
      "cell_type": "code",
      "source": [
        "model.nodes()"
      ],
      "metadata": {
        "colab": {
          "base_uri": "https://localhost:8080/"
        },
        "id": "1PjkPUsN099F",
        "outputId": "9a95988a-c817-4ba3-fce8-a6cf878cbb9d"
      },
      "execution_count": 23,
      "outputs": [
        {
          "output_type": "execute_result",
          "data": {
            "text/plain": [
              "NodeView(('A', 'B', 'T', 'S', 'L', 'E', 'D', 'X'))"
            ]
          },
          "metadata": {},
          "execution_count": 23
        }
      ]
    },
    {
      "cell_type": "code",
      "source": [
        "model.edges()"
      ],
      "metadata": {
        "colab": {
          "base_uri": "https://localhost:8080/"
        },
        "id": "Mqnp9fEL2Bzq",
        "outputId": "7da2389a-22b2-4708-a7fa-d4808efaa1fb"
      },
      "execution_count": 24,
      "outputs": [
        {
          "output_type": "execute_result",
          "data": {
            "text/plain": [
              "OutEdgeView([('A', 'T'), ('B', 'D'), ('T', 'E'), ('S', 'L'), ('S', 'B'), ('L', 'E'), ('E', 'D'), ('E', 'X')])"
            ]
          },
          "metadata": {},
          "execution_count": 24
        }
      ]
    },
    {
      "cell_type": "code",
      "source": [
        "# Q2 III\n",
        "inference = VariableElimination(model)\n",
        "result = inference.query(variables=['D'], evidence={'X': 1})\n",
        "print(result)"
      ],
      "metadata": {
        "colab": {
          "base_uri": "https://localhost:8080/"
        },
        "id": "cfE71Z3XdB-D",
        "outputId": "bae6cda6-9a8c-44b7-9f94-34d580958d49"
      },
      "execution_count": 25,
      "outputs": [
        {
          "output_type": "stream",
          "name": "stdout",
          "text": [
            "+------+----------+\n",
            "| D    |   phi(D) |\n",
            "+======+==========+\n",
            "| D(0) |   0.3592 |\n",
            "+------+----------+\n",
            "| D(1) |   0.6408 |\n",
            "+------+----------+\n"
          ]
        }
      ]
    },
    {
      "cell_type": "code",
      "source": [
        "result = inference.query(variables=['X'])\n",
        "print(result)"
      ],
      "metadata": {
        "colab": {
          "base_uri": "https://localhost:8080/"
        },
        "id": "ssjiYftPdCKb",
        "outputId": "84a9a978-f7fa-4fb6-d959-1d0a61eeaf7a"
      },
      "execution_count": null,
      "outputs": [
        {
          "output_type": "stream",
          "name": "stdout",
          "text": [
            "+------+----------+\n",
            "| X    |   phi(X) |\n",
            "+======+==========+\n",
            "| X(0) |   0.8897 |\n",
            "+------+----------+\n",
            "| X(1) |   0.1103 |\n",
            "+------+----------+\n"
          ]
        }
      ]
    },
    {
      "cell_type": "code",
      "source": [
        "result = inference.query(variables = ['T'], evidence = {'A': 1, 'L': 1, 'X': 1})\n",
        "print(result)"
      ],
      "metadata": {
        "colab": {
          "base_uri": "https://localhost:8080/"
        },
        "id": "BjdlBU_NeHZV",
        "outputId": "e0fe3623-2440-41b1-aa8c-bc237ee53a23"
      },
      "execution_count": null,
      "outputs": [
        {
          "output_type": "stream",
          "name": "stdout",
          "text": [
            "+------+----------+\n",
            "| T    |   phi(T) |\n",
            "+======+==========+\n",
            "| T(0) |   0.9500 |\n",
            "+------+----------+\n",
            "| T(1) |   0.0500 |\n",
            "+------+----------+\n"
          ]
        }
      ]
    },
    {
      "cell_type": "markdown",
      "source": [
        "Q1"
      ],
      "metadata": {
        "id": "HmNe-5N6fX5W"
      }
    },
    {
      "cell_type": "code",
      "source": [
        "from pgmpy.models import BayesianNetwork\n",
        "from pgmpy.factors.discrete.CPD import TabularCPD\n",
        "from pgmpy.inference import VariableElimination\n",
        "from pgmpy.factors import factor_product\n",
        "import networkx as nx\n",
        "import matplotlib.pyplot as plt"
      ],
      "metadata": {
        "id": "8nHUCU5XSoSm"
      },
      "execution_count": 32,
      "outputs": []
    },
    {
      "cell_type": "code",
      "source": [
        "model = BayesianNetwork()"
      ],
      "metadata": {
        "id": "HuRxpbMxeiCr"
      },
      "execution_count": 33,
      "outputs": []
    },
    {
      "cell_type": "code",
      "source": [
        "model.add_nodes_from(['Income','Deposit', 'Payment','Security','Housing'])\n",
        "model.add_edges_from([['Income','Payment'],['Income','Deposit'],['Deposit','Payment'],['Payment','Security'],['Housing','Security']])\n",
        "print(model.nodes)\n",
        "print(model.edges)"
      ],
      "metadata": {
        "colab": {
          "base_uri": "https://localhost:8080/"
        },
        "id": "HLqEhticfbEo",
        "outputId": "3b894d63-14a5-483b-bed1-ae9ebfd19e74"
      },
      "execution_count": 34,
      "outputs": [
        {
          "output_type": "stream",
          "name": "stdout",
          "text": [
            "['Income', 'Deposit', 'Payment', 'Security', 'Housing']\n",
            "[('Income', 'Payment'), ('Income', 'Deposit'), ('Deposit', 'Payment'), ('Payment', 'Security'), ('Housing', 'Security')]\n"
          ]
        }
      ]
    },
    {
      "cell_type": "code",
      "source": [
        "graph = nx.DiGraph()\n",
        "graph.add_edges_from(model.edges())\n",
        "pos = nx.spring_layout(graph)\n",
        "nx.draw(graph, pos, with_labels=True, node_size=1200, node_color=\"skyblue\", font_weight=\"bold\", font_size=12, arrows=True)\n",
        "plt.title(\"Bayesian Network\")\n",
        "plt.show()"
      ],
      "metadata": {
        "colab": {
          "base_uri": "https://localhost:8080/",
          "height": 514
        },
        "id": "ZUmjsF45f0sd",
        "outputId": "c50672ef-32f0-41e7-e0a9-bce5c1397ffe"
      },
      "execution_count": 35,
      "outputs": [
        {
          "output_type": "display_data",
          "data": {
            "text/plain": [
              "<Figure size 640x480 with 1 Axes>"
            ],
            "image/png": "[encoded data removed]"
          },
          "metadata": {}
        }
      ]
    },
    {
      "cell_type": "code",
      "source": [
        "model.get_children('Deposit'),model.get_children('Payment')"
      ],
      "metadata": {
        "colab": {
          "base_uri": "https://localhost:8080/"
        },
        "id": "2Tyk_Oo9Ykeq",
        "outputId": "46aa848e-7072-45ff-c9a9-71dd866bd8f0"
      },
      "execution_count": 44,
      "outputs": [
        {
          "output_type": "execute_result",
          "data": {
            "text/plain": [
              "(['Payment'], ['Security'])"
            ]
          },
          "metadata": {},
          "execution_count": 44
        }
      ]
    },
    {
      "cell_type": "code",
      "source": [
        "model.get_independencies()"
      ],
      "metadata": {
        "colab": {
          "base_uri": "https://localhost:8080/"
        },
        "id": "VXvXfERPXC-v",
        "outputId": "fb302201-a2cf-4c32-acf9-018a36bf03b8"
      },
      "execution_count": 36,
      "outputs": [
        {
          "output_type": "execute_result",
          "data": {
            "text/plain": [
              "(Deposit ⟂ Housing)\n",
              "(Deposit ⟂ Housing | Income)\n",
              "(Deposit ⟂ Housing, Security | Payment)\n",
              "(Deposit ⟂ Housing, Security | Income, Payment)\n",
              "(Deposit ⟂ Security | Housing, Payment)\n",
              "(Deposit ⟂ Housing | Payment, Security)\n",
              "(Deposit ⟂ Security | Income, Housing, Payment)\n",
              "(Deposit ⟂ Housing | Income, Payment, Security)\n",
              "(Housing ⟂ Income, Deposit, Payment)\n",
              "(Housing ⟂ Deposit, Payment | Income)\n",
              "(Housing ⟂ Income, Payment | Deposit)\n",
              "(Housing ⟂ Income, Deposit | Payment)\n",
              "(Housing ⟂ Payment | Income, Deposit)\n",
              "(Housing ⟂ Deposit | Income, Payment)\n",
              "(Housing ⟂ Income | Deposit, Payment)\n",
              "(Housing ⟂ Income, Deposit | Payment, Security)\n",
              "(Housing ⟂ Deposit | Income, Payment, Security)\n",
              "(Housing ⟂ Income | Deposit, Payment, Security)\n",
              "(Income ⟂ Housing)\n",
              "(Income ⟂ Housing | Deposit)\n",
              "(Income ⟂ Housing, Security | Payment)\n",
              "(Income ⟂ Housing, Security | Deposit, Payment)\n",
              "(Income ⟂ Security | Housing, Payment)\n",
              "(Income ⟂ Housing | Payment, Security)\n",
              "(Income ⟂ Security | Deposit, Housing, Payment)\n",
              "(Income ⟂ Housing | Deposit, Payment, Security)\n",
              "(Payment ⟂ Housing)\n",
              "(Payment ⟂ Housing | Income)\n",
              "(Payment ⟂ Housing | Deposit)\n",
              "(Payment ⟂ Housing | Income, Deposit)\n",
              "(Security ⟂ Income, Deposit | Payment)\n",
              "(Security ⟂ Deposit | Income, Payment)\n",
              "(Security ⟂ Income | Deposit, Payment)\n",
              "(Security ⟂ Income, Deposit | Housing, Payment)\n",
              "(Security ⟂ Deposit | Income, Housing, Payment)\n",
              "(Security ⟂ Income | Deposit, Housing, Payment)"
            ]
          },
          "metadata": {},
          "execution_count": 36
        }
      ]
    },
    {
      "cell_type": "code",
      "source": [
        "cpd_A = TabularCPD('Income', 2, [[0.7], [0.3]])\n",
        "cpd_B = TabularCPD('Deposit', 2, [[0.4, 0.9], [0.6, 0.1]], evidence = ['Income'], evidence_card = [2])\n",
        "cpd_C = TabularCPD('Payment', 2,[[0.4, 0.55, 0.5, 0.95],[0.6, 0.45, 0.5, 0.05]],evidence=['Income', 'Deposit'],evidence_card=[2, 2])\n",
        "cpd_D = TabularCPD('Security', 2,[[0.69, 0.25, 0.5, 0.99],[0.31, 0.75, 0.5, 0.01]],evidence=['Payment','Housing'],evidence_card=[2, 2])\n",
        "cpd_E = TabularCPD('Housing', 2, [[0.65], [0.35]])"
      ],
      "metadata": {
        "id": "_-k6FpBGhTxd"
      },
      "execution_count": 49,
      "outputs": []
    },
    {
      "cell_type": "code",
      "source": [
        "model.add_cpds(cpd_A, cpd_B, cpd_C, cpd_D, cpd_E)"
      ],
      "metadata": {
        "id": "0d6xQY00in94",
        "colab": {
          "base_uri": "https://localhost:8080/"
        },
        "outputId": "c8566e66-b1a4-420b-8d5c-e7ded1b9f320"
      },
      "execution_count": 50,
      "outputs": [
        {
          "output_type": "stream",
          "name": "stderr",
          "text": [
            "WARNING:pgmpy:Replacing existing CPD for Income\n",
            "WARNING:pgmpy:Replacing existing CPD for Deposit\n"
          ]
        }
      ]
    },
    {
      "cell_type": "code",
      "source": [
        "# all_cpds = model.get_cpds()\n",
        "# all_factors = [cpd.to_factor() for cpd in all_cpds]\n",
        "# print(all_factors)"
      ],
      "metadata": {
        "colab": {
          "base_uri": "https://localhost:8080/"
        },
        "id": "JR9v6sz2Vi9z",
        "outputId": "6d6fe6f8-8f03-4e4a-9548-f3593066210f"
      },
      "execution_count": 11,
      "outputs": [
        {
          "output_type": "stream",
          "name": "stdout",
          "text": [
            "[<DiscreteFactor representing phi(A:2) at 0x79217551fb50>, <DiscreteFactor representing phi(B:2, A:2) at 0x79217548a860>, <DiscreteFactor representing phi(C:2, A:2, B:2) at 0x7921754881f0>, <DiscreteFactor representing phi(D:2, C:2, E:2) at 0x792175488400>, <DiscreteFactor representing phi(E:2) at 0x7921754d5db0>]\n"
          ]
        }
      ]
    },
    {
      "cell_type": "code",
      "source": [
        "all_cpds = model.get_cpds()\n",
        "all_factors = [cpd.to_factor() for cpd in all_cpds]\n",
        "joint_distribution = factor_product(*all_factors)\n",
        "print(joint_distribution)"
      ],
      "metadata": {
        "colab": {
          "base_uri": "https://localhost:8080/"
        },
        "id": "CYMsjHdGixz3",
        "outputId": "5d3ce0a6-0f4b-46e7-a53b-a06cdaff5223"
      },
      "execution_count": 51,
      "outputs": [
        {
          "output_type": "stream",
          "name": "stdout",
          "text": [
            "+------------+------------+-----------+------------+-------------+------------------------------------------------+\n",
            "| Deposit    | Housing    | Income    | Payment    | Security    |   phi(Deposit,Housing,Income,Payment,Security) |\n",
            "+============+============+===========+============+=============+================================================+\n",
            "| Deposit(0) | Housing(0) | Income(0) | Payment(0) | Security(0) |                                         0.0502 |\n",
            "+------------+------------+-----------+------------+-------------+------------------------------------------------+\n",
            "| Deposit(0) | Housing(0) | Income(0) | Payment(0) | Security(1) |                                         0.0226 |\n",
            "+------------+------------+-----------+------------+-------------+------------------------------------------------+\n",
            "| Deposit(0) | Housing(0) | Income(0) | Payment(1) | Security(0) |                                         0.0546 |\n",
            "+------------+------------+-----------+------------+-------------+------------------------------------------------+\n",
            "| Deposit(0) | Housing(0) | Income(0) | Payment(1) | Security(1) |                                         0.0546 |\n",
            "+------------+------------+-----------+------------+-------------+------------------------------------------------+\n",
            "| Deposit(0) | Housing(0) | Income(1) | Payment(0) | Security(0) |                                         0.0605 |\n",
            "+------------+------------+-----------+------------+-------------+------------------------------------------------+\n",
            "| Deposit(0) | Housing(0) | Income(1) | Payment(0) | Security(1) |                                         0.0272 |\n",
            "+------------+------------+-----------+------------+-------------+------------------------------------------------+\n",
            "| Deposit(0) | Housing(0) | Income(1) | Payment(1) | Security(0) |                                         0.0439 |\n",
            "+------------+------------+-----------+------------+-------------+------------------------------------------------+\n",
            "| Deposit(0) | Housing(0) | Income(1) | Payment(1) | Security(1) |                                         0.0439 |\n",
            "+------------+------------+-----------+------------+-------------+------------------------------------------------+\n",
            "| Deposit(0) | Housing(1) | Income(0) | Payment(0) | Security(0) |                                         0.0098 |\n",
            "+------------+------------+-----------+------------+-------------+------------------------------------------------+\n",
            "| Deposit(0) | Housing(1) | Income(0) | Payment(0) | Security(1) |                                         0.0294 |\n",
            "+------------+------------+-----------+------------+-------------+------------------------------------------------+\n",
            "| Deposit(0) | Housing(1) | Income(0) | Payment(1) | Security(0) |                                         0.0582 |\n",
            "+------------+------------+-----------+------------+-------------+------------------------------------------------+\n",
            "| Deposit(0) | Housing(1) | Income(0) | Payment(1) | Security(1) |                                         0.0006 |\n",
            "+------------+------------+-----------+------------+-------------+------------------------------------------------+\n",
            "| Deposit(0) | Housing(1) | Income(1) | Payment(0) | Security(0) |                                         0.0118 |\n",
            "+------------+------------+-----------+------------+-------------+------------------------------------------------+\n",
            "| Deposit(0) | Housing(1) | Income(1) | Payment(0) | Security(1) |                                         0.0354 |\n",
            "+------------+------------+-----------+------------+-------------+------------------------------------------------+\n",
            "| Deposit(0) | Housing(1) | Income(1) | Payment(1) | Security(0) |                                         0.0468 |\n",
            "+------------+------------+-----------+------------+-------------+------------------------------------------------+\n",
            "| Deposit(0) | Housing(1) | Income(1) | Payment(1) | Security(1) |                                         0.0005 |\n",
            "+------------+------------+-----------+------------+-------------+------------------------------------------------+\n",
            "| Deposit(1) | Housing(0) | Income(0) | Payment(0) | Security(0) |                                         0.1036 |\n",
            "+------------+------------+-----------+------------+-------------+------------------------------------------------+\n",
            "| Deposit(1) | Housing(0) | Income(0) | Payment(0) | Security(1) |                                         0.0465 |\n",
            "+------------+------------+-----------+------------+-------------+------------------------------------------------+\n",
            "| Deposit(1) | Housing(0) | Income(0) | Payment(1) | Security(0) |                                         0.0614 |\n",
            "+------------+------------+-----------+------------+-------------+------------------------------------------------+\n",
            "| Deposit(1) | Housing(0) | Income(0) | Payment(1) | Security(1) |                                         0.0614 |\n",
            "+------------+------------+-----------+------------+-------------+------------------------------------------------+\n",
            "| Deposit(1) | Housing(0) | Income(1) | Payment(0) | Security(0) |                                         0.0128 |\n",
            "+------------+------------+-----------+------------+-------------+------------------------------------------------+\n",
            "| Deposit(1) | Housing(0) | Income(1) | Payment(0) | Security(1) |                                         0.0057 |\n",
            "+------------+------------+-----------+------------+-------------+------------------------------------------------+\n",
            "| Deposit(1) | Housing(0) | Income(1) | Payment(1) | Security(0) |                                         0.0005 |\n",
            "+------------+------------+-----------+------------+-------------+------------------------------------------------+\n",
            "| Deposit(1) | Housing(0) | Income(1) | Payment(1) | Security(1) |                                         0.0005 |\n",
            "+------------+------------+-----------+------------+-------------+------------------------------------------------+\n",
            "| Deposit(1) | Housing(1) | Income(0) | Payment(0) | Security(0) |                                         0.0202 |\n",
            "+------------+------------+-----------+------------+-------------+------------------------------------------------+\n",
            "| Deposit(1) | Housing(1) | Income(0) | Payment(0) | Security(1) |                                         0.0606 |\n",
            "+------------+------------+-----------+------------+-------------+------------------------------------------------+\n",
            "| Deposit(1) | Housing(1) | Income(0) | Payment(1) | Security(0) |                                         0.0655 |\n",
            "+------------+------------+-----------+------------+-------------+------------------------------------------------+\n",
            "| Deposit(1) | Housing(1) | Income(0) | Payment(1) | Security(1) |                                         0.0007 |\n",
            "+------------+------------+-----------+------------+-------------+------------------------------------------------+\n",
            "| Deposit(1) | Housing(1) | Income(1) | Payment(0) | Security(0) |                                         0.0025 |\n",
            "+------------+------------+-----------+------------+-------------+------------------------------------------------+\n",
            "| Deposit(1) | Housing(1) | Income(1) | Payment(0) | Security(1) |                                         0.0075 |\n",
            "+------------+------------+-----------+------------+-------------+------------------------------------------------+\n",
            "| Deposit(1) | Housing(1) | Income(1) | Payment(1) | Security(0) |                                         0.0005 |\n",
            "+------------+------------+-----------+------------+-------------+------------------------------------------------+\n",
            "| Deposit(1) | Housing(1) | Income(1) | Payment(1) | Security(1) |                                         0.0000 |\n",
            "+------------+------------+-----------+------------+-------------+------------------------------------------------+\n"
          ]
        }
      ]
    },
    {
      "cell_type": "code",
      "source": [
        "# Q1 IV\n",
        "inference = VariableElimination(model)\n",
        "result = inference.query(variables=['Payment'])\n",
        "print(result)"
      ],
      "metadata": {
        "colab": {
          "base_uri": "https://localhost:8080/"
        },
        "id": "1rOHti1MjZHy",
        "outputId": "2d0b1a60-996e-4de1-b609-6329bd5fb373"
      },
      "execution_count": 53,
      "outputs": [
        {
          "output_type": "stream",
          "name": "stdout",
          "text": [
            "+------------+----------------+\n",
            "| Payment    |   phi(Payment) |\n",
            "+============+================+\n",
            "| Payment(0) |         0.5065 |\n",
            "+------------+----------------+\n",
            "| Payment(1) |         0.4935 |\n",
            "+------------+----------------+\n"
          ]
        }
      ]
    },
    {
      "cell_type": "code",
      "source": [
        "# Q1 V\n",
        "result = inference.query(variables=['Payment'], evidence = {'Income':0, 'Deposit': 1})\n",
        "print(result)"
      ],
      "metadata": {
        "colab": {
          "base_uri": "https://localhost:8080/"
        },
        "id": "QOhTySUjjr8I",
        "outputId": "e50c352b-7d36-4600-e497-eb16b7117985"
      },
      "execution_count": 55,
      "outputs": [
        {
          "output_type": "stream",
          "name": "stdout",
          "text": [
            "+------------+----------------+\n",
            "| Payment    |   phi(Payment) |\n",
            "+============+================+\n",
            "| Payment(0) |         0.5500 |\n",
            "+------------+----------------+\n",
            "| Payment(1) |         0.4500 |\n",
            "+------------+----------------+\n"
          ]
        }
      ]
    },
    {
      "cell_type": "code",
      "source": [
        "# Q1 VI\n",
        "result = inference.query(variables=['Payment'], evidence = {'Income': 1, 'Security': 0})\n",
        "print(result)"
      ],
      "metadata": {
        "colab": {
          "base_uri": "https://localhost:8080/"
        },
        "id": "tMFewAXdj6iR",
        "outputId": "2d86eb9c-739d-4b1b-9a53-4bbaea144d61"
      },
      "execution_count": 56,
      "outputs": [
        {
          "output_type": "stream",
          "name": "stdout",
          "text": [
            "+------------+----------------+\n",
            "| Payment    |   phi(Payment) |\n",
            "+============+================+\n",
            "| Payment(0) |         0.4888 |\n",
            "+------------+----------------+\n",
            "| Payment(1) |         0.5112 |\n",
            "+------------+----------------+\n"
          ]
        }
      ]
    },
    {
      "cell_type": "code",
      "source": [],
      "metadata": {
        "id": "R41wkiEra039"
      },
      "execution_count": null,
      "outputs": []
    }
  ]
}